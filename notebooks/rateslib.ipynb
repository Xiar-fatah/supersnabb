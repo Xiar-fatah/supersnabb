{
 "cells": [
  {
   "cell_type": "code",
   "execution_count": 2,
   "metadata": {},
   "outputs": [],
   "source": [
    "import rateslib as rl"
   ]
  },
  {
   "cell_type": "code",
   "execution_count": 3,
   "metadata": {},
   "outputs": [
    {
     "name": "stdout",
     "output_type": "stream",
     "text": [
      "SUCCESS: `func_tol` reached after 3 iterations (levenberg_marquardt) , `f_val`: 1.1522476203957725e-18, `time`: 0.0070s\n"
     ]
    }
   ],
   "source": [
    "eureur = rl.Curve(\n",
    "    nodes={\n",
    "        rl.dt(2022, 1, 1): 1.0,\n",
    "        rl.dt(2022, 5, 1): 1.0,\n",
    "        rl.dt(2023, 1, 1): 1.0,\n",
    "    },\n",
    "    convention=\"act360\",\n",
    "    calendar=\"tgt\",\n",
    "    interpolation=\"log_linear\",\n",
    "    id=\"eureur\",\n",
    ")\n",
    "\n",
    "\n",
    "eur_kws = dict(\n",
    "    effective=rl.dt(2022, 1, 3),\n",
    "    spec=\"eur_irs\",\n",
    "    curves=\"eureur\",\n",
    ")\n",
    "\n",
    "\n",
    "eur_solver = rl.Solver(\n",
    "    curves=[eureur],\n",
    "    instruments=[\n",
    "        rl.IRS(**eur_kws, termination=\"4M\"),\n",
    "        rl.IRS(**eur_kws, termination=\"1Y\"),\n",
    "    ],\n",
    "    s=[2.0, 2.5],\n",
    "    id=\"eur\",\n",
    ")"
   ]
  },
  {
   "cell_type": "code",
   "execution_count": 4,
   "metadata": {},
   "outputs": [
    {
     "name": "stdout",
     "output_type": "stream",
     "text": [
      "SUCCESS: `func_tol` reached after 3 iterations (levenberg_marquardt) , `f_val`: 8.95311645138308e-13, `time`: 0.0040s\n"
     ]
    }
   ],
   "source": [
    "usdusd = rl.Curve(\n",
    "    nodes={\n",
    "        rl.dt(2022, 1, 1): 1.0,\n",
    "        rl.dt(2022, 8, 1): 1.0,\n",
    "        rl.dt(2023, 1, 1): 1.0,\n",
    "    },\n",
    "    convention=\"act360\",\n",
    "    calendar=\"nyc\",\n",
    "    interpolation=\"log_linear\",\n",
    "    id=\"usdusd\",\n",
    ")\n",
    "\n",
    "\n",
    "usd_kws = dict(\n",
    "    effective=rl.dt(2022, 1, 3),\n",
    "    spec=\"usd_irs\",\n",
    "    curves=\"usdusd\",\n",
    ")\n",
    "\n",
    "\n",
    "usd_solver = rl.Solver(\n",
    "    curves=[usdusd],\n",
    "    instruments=[\n",
    "        rl.IRS(**usd_kws, termination=\"7M\"),\n",
    "        rl.IRS(**usd_kws, termination=\"1Y\"),\n",
    "    ],\n",
    "    s=[4.0, 4.8],\n",
    "    id=\"usd\",\n",
    ")"
   ]
  },
  {
   "cell_type": "code",
   "execution_count": 5,
   "metadata": {},
   "outputs": [
    {
     "name": "stdout",
     "output_type": "stream",
     "text": [
      "SUCCESS: `func_tol` reached after 3 iterations (levenberg_marquardt) , `f_val`: 1.0572444443750555e-20, `time`: 0.0530s\n"
     ]
    }
   ],
   "source": [
    "fxr = rl.FXRates({\"eurusd\": 1.10}, settlement=rl.dt(2022, 1, 3))\n",
    "\n",
    "eurusd = rl.Curve(\n",
    "    nodes={\n",
    "        rl.dt(2022, 1, 1): 1.0,\n",
    "        rl.dt(2022, 5, 1): 1.0,\n",
    "        rl.dt(2022, 9, 1): 1.0,\n",
    "        rl.dt(2023, 1, 1): 1.0,\n",
    "    },\n",
    "    convention=\"act360\",\n",
    "    calendar=None,\n",
    "    interpolation=\"log_linear\",\n",
    "    id=\"eurusd\",\n",
    ")\n",
    "\n",
    "\n",
    "fxf = rl.FXForwards(\n",
    "    fx_rates=fxr,\n",
    "    fx_curves={\n",
    "        \"usdusd\": usdusd,\n",
    "        \"eureur\": eureur,\n",
    "        \"eurusd\": eurusd,\n",
    "    },\n",
    ")\n",
    "\n",
    "\n",
    "xcs_kws = dict(\n",
    "    effective=rl.dt(2022, 1, 3),\n",
    "    spec=\"eurusd_xcs\",\n",
    "    curves=[\"eureur\", \"eurusd\", \"usdusd\", \"usdusd\"],\n",
    ")\n",
    "\n",
    "\n",
    "xcs_solver = rl.Solver(\n",
    "    pre_solvers=[eur_solver, usd_solver],\n",
    "    fx=fxf,\n",
    "    curves=[eurusd],\n",
    "    instruments=[\n",
    "        rl.XCS(**xcs_kws, termination=\"4m\"),\n",
    "        rl.XCS(**xcs_kws, termination=\"8m\"),\n",
    "        rl.XCS(**xcs_kws, termination=\"1y\"),\n",
    "    ],\n",
    "    s=[-5.0, -6.5, -11.0],\n",
    "    id=\"eur/usd\",\n",
    ")"
   ]
  }
 ],
 "metadata": {
  "kernelspec": {
   "display_name": "rateslib",
   "language": "python",
   "name": "python3"
  },
  "language_info": {
   "codemirror_mode": {
    "name": "ipython",
    "version": 3
   },
   "file_extension": ".py",
   "mimetype": "text/x-python",
   "name": "python",
   "nbconvert_exporter": "python",
   "pygments_lexer": "ipython3",
   "version": "3.11.4"
  }
 },
 "nbformat": 4,
 "nbformat_minor": 2
}
