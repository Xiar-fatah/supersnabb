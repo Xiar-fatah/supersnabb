{
 "cells": [
  {
   "cell_type": "code",
   "execution_count": 37,
   "metadata": {},
   "outputs": [
    {
     "name": "stdout",
     "output_type": "stream",
     "text": [
      "(end_date.serial_number - start_date.serial_number) = 365\n",
      "(end_date.serial_number - start_date.serial_number) = 365\n",
      "(end_date.serial_number - start_date.serial_number) = 365\n",
      "(end_date.serial_number - start_date.serial_number) = 365\n",
      "(end_date.serial_number - start_date.serial_number) = 365\n",
      "(end_date.serial_number - start_date.serial_number) = 365\n",
      "(end_date.serial_number - start_date.serial_number) = 368\n",
      "(end_date.serial_number - start_date.serial_number) = 368\n",
      "(end_date.serial_number - start_date.serial_number) = 368\n",
      "(end_date.serial_number - start_date.serial_number) = 364\n",
      "(end_date.serial_number - start_date.serial_number) = 364\n",
      "(end_date.serial_number - start_date.serial_number) = 364\n",
      "(end_date.serial_number - start_date.serial_number) = 364\n",
      "(end_date.serial_number - start_date.serial_number) = 364\n",
      "(end_date.serial_number - start_date.serial_number) = 364\n"
     ]
    }
   ],
   "source": [
    "import supersnabb as ss\n",
    "from supersnabb.cashflows.fixed_rate_coupon import FixedRateLeg\n",
    "\n",
    "schedule = ss.Schedule(\n",
    "    ss.Date(2018, 1, 1),\n",
    "    ss.Date(2023, 1, 2),\n",
    "    ss.Tenor(\"1Y\"),\n",
    "    ss.Sweden(),\n",
    "    ss.BusinessDayConvention.MODIFIEDFOLLOWING,\n",
    "    ss.BusinessDayConvention.MODIFIEDFOLLOWING,\n",
    "    \"forward\",\n",
    ")\n",
    "discount_curve= ss.DiscountCurve(\n",
    "    [ss.Date(2018, 1, 1), ss.Date(2019, 1, 1), ss.Date(2020, 1, 1), ss.Date(2021, 1, 1), ss.Date(2022, 1, 1), ss.Date(2024, 1, 1)],\n",
    "    [1, 0.99, 0.98, 0.97, 0.96, 0.95],\n",
    "    ss.ACT365,\n",
    "    ss.Sweden,\n",
    "    ss.InterpolationType.LINEAR,\n",
    ")\n",
    "\n",
    "\n",
    "fixed_leg = FixedRateLeg(\n",
    "    schedule,\n",
    "    10e5,\n",
    "    0.032,\n",
    "    ss.ACT365,\n",
    "    ss.BusinessDayConvention.FOLLOWING,\n",
    "    ss.Sweden,\n",
    "    discount_curve\n",
    ")\n",
    "fixed_leg.cashflows.to_clipboard()"
   ]
  },
  {
   "cell_type": "code",
   "execution_count": 41,
   "metadata": {},
   "outputs": [
    {
     "data": {
      "text/html": [
       "<div>\n",
       "<style scoped>\n",
       "    .dataframe tbody tr th:only-of-type {\n",
       "        vertical-align: middle;\n",
       "    }\n",
       "\n",
       "    .dataframe tbody tr th {\n",
       "        vertical-align: top;\n",
       "    }\n",
       "\n",
       "    .dataframe thead th {\n",
       "        text-align: right;\n",
       "    }\n",
       "</style>\n",
       "<table border=\"1\" class=\"dataframe\">\n",
       "  <thead>\n",
       "    <tr style=\"text-align: right;\">\n",
       "      <th></th>\n",
       "      <th>nominal</th>\n",
       "      <th>accrualStartDate</th>\n",
       "      <th>accrualEndDate</th>\n",
       "      <th>rate</th>\n",
       "      <th>amount</th>\n",
       "      <th>payment date</th>\n",
       "      <th>discount factor</th>\n",
       "      <th>accrual</th>\n",
       "      <th>coupon</th>\n",
       "    </tr>\n",
       "  </thead>\n",
       "  <tbody>\n",
       "    <tr>\n",
       "      <th>0</th>\n",
       "      <td>10000000.0</td>\n",
       "      <td>2018-01-02</td>\n",
       "      <td>2019-01-02</td>\n",
       "      <td>0.032</td>\n",
       "      <td>320000.000000</td>\n",
       "      <td>2019-01-02</td>\n",
       "      <td>0.989972</td>\n",
       "      <td>1.000000</td>\n",
       "      <td>316791.188420</td>\n",
       "    </tr>\n",
       "    <tr>\n",
       "      <th>1</th>\n",
       "      <td>10000000.0</td>\n",
       "      <td>2019-01-02</td>\n",
       "      <td>2020-01-02</td>\n",
       "      <td>0.032</td>\n",
       "      <td>320000.000000</td>\n",
       "      <td>2020-01-02</td>\n",
       "      <td>0.979973</td>\n",
       "      <td>1.000000</td>\n",
       "      <td>313591.212040</td>\n",
       "    </tr>\n",
       "    <tr>\n",
       "      <th>2</th>\n",
       "      <td>10000000.0</td>\n",
       "      <td>2020-01-02</td>\n",
       "      <td>2021-01-04</td>\n",
       "      <td>0.032</td>\n",
       "      <td>321777.777778</td>\n",
       "      <td>2021-01-04</td>\n",
       "      <td>0.969917</td>\n",
       "      <td>1.005556</td>\n",
       "      <td>312097.860816</td>\n",
       "    </tr>\n",
       "    <tr>\n",
       "      <th>3</th>\n",
       "      <td>10000000.0</td>\n",
       "      <td>2021-01-04</td>\n",
       "      <td>2022-01-03</td>\n",
       "      <td>0.032</td>\n",
       "      <td>319111.111111</td>\n",
       "      <td>2022-01-03</td>\n",
       "      <td>0.959972</td>\n",
       "      <td>0.997222</td>\n",
       "      <td>306337.878169</td>\n",
       "    </tr>\n",
       "    <tr>\n",
       "      <th>4</th>\n",
       "      <td>10000000.0</td>\n",
       "      <td>2022-01-03</td>\n",
       "      <td>2023-01-02</td>\n",
       "      <td>0.032</td>\n",
       "      <td>319111.111111</td>\n",
       "      <td>2023-01-02</td>\n",
       "      <td>0.954973</td>\n",
       "      <td>0.997222</td>\n",
       "      <td>304742.562902</td>\n",
       "    </tr>\n",
       "  </tbody>\n",
       "</table>\n",
       "</div>"
      ],
      "text/plain": [
       "      nominal accrualStartDate accrualEndDate   rate         amount  \\\n",
       "0  10000000.0       2018-01-02     2019-01-02  0.032  320000.000000   \n",
       "1  10000000.0       2019-01-02     2020-01-02  0.032  320000.000000   \n",
       "2  10000000.0       2020-01-02     2021-01-04  0.032  321777.777778   \n",
       "3  10000000.0       2021-01-04     2022-01-03  0.032  319111.111111   \n",
       "4  10000000.0       2022-01-03     2023-01-02  0.032  319111.111111   \n",
       "\n",
       "  payment date  discount factor   accrual         coupon  \n",
       "0   2019-01-02         0.989972  1.000000  316791.188420  \n",
       "1   2020-01-02         0.979973  1.000000  313591.212040  \n",
       "2   2021-01-04         0.969917  1.005556  312097.860816  \n",
       "3   2022-01-03         0.959972  0.997222  306337.878169  \n",
       "4   2023-01-02         0.954973  0.997222  304742.562902  "
      ]
     },
     "execution_count": 41,
     "metadata": {},
     "output_type": "execute_result"
    }
   ],
   "source": [
    "import QuantLib as ql\n",
    "import pandas as pd\n",
    "# Begin by setting the valuation date of which the cap and the floor should be priced at\n",
    "ql.Settings.instance().evaluationDate = ql.Date(1, 1, 2018)\n",
    "# Then we initialize the curve we want to use for discounting and forecasting\n",
    "discount_factors = [1, 0.99, 0.98, 0.97, 0.96, 0.95]  # discount factors\n",
    "dates = [\n",
    "    ql.Date(1, 1, 2018),\n",
    "    ql.Date(1, 1, 2019),\n",
    "    ql.Date(1, 1, 2020),\n",
    "    ql.Date(1, 1, 2021),\n",
    "    ql.Date(1, 1, 2022),\n",
    "    ql.Date(1, 1, 2024),\n",
    "]  # maturity dates of the discount factors\n",
    "day_counter = ql.Actual365Fixed()\n",
    "# Note that we will not strip a curve here, but simply use the discount factors and the dates defined above\n",
    "# By default QuantLib DiscountCurve will log linearly interpolate between the points.\n",
    "discount_curve = ql.DiscountCurve(dates, discount_factors, day_counter)\n",
    "# The curve will note be linked in case we want to update the quotes later on\n",
    "discount_handle = ql.YieldTermStructureHandle(discount_curve)\n",
    "\n",
    "start_date = ql.Date(1, 1, 2022)\n",
    "end_date = start_date + ql.Period(12, ql.Months)\n",
    "\n",
    "# We define the schedule of the cap and floor\n",
    "schedule = ql.Schedule(\n",
    "    start_date,                 # Start date of payments\n",
    "    end_date,                   # End date of payments\n",
    "    ql.Period(3, ql.Months),    # frequency of payments\n",
    "    ql.Sweden(),                # Calendar for adjusting for holidays\n",
    "    ql.ModifiedFollowing,       # Business convention for adjusting for holidays\n",
    "    ql.ModifiedFollowing,       # Business convention for adjusting for holidays\n",
    "    ql.DateGeneration.Forward, # Date generation rule for generating the schedule\n",
    "    False,                      # End of month rule\n",
    ")\n",
    "\n",
    "# Create a custom index to track the payments correctly, specifically fixing days.\n",
    "custom_discount_index= ql.IborIndex(\n",
    "    \"MyIndex\",\n",
    "    ql.Period(\"1y\"),\n",
    "    0,\n",
    "    ql.SEKCurrency(),\n",
    "    ql.Sweden(),\n",
    "    ql.Following,\n",
    "    False,\n",
    "    ql.Actual365Fixed(),\n",
    "    discount_handle,\n",
    ")\n",
    "\n",
    "engine = ql.DiscountingSwapEngine(discount_handle)\n",
    "tenor = ql.Period('5y')\n",
    "fixedRate = 0.032\n",
    "forwardStart = ql.Period(\"0D\")\n",
    "\n",
    "swap = ql.MakeVanillaSwap(tenor, custom_discount_index, fixedRate, forwardStart, Nominal=10e6, pricingEngine=engine)\n",
    "cashflows = pd.DataFrame({\n",
    "    'nominal': cf.nominal(),\n",
    "    'accrualStartDate': cf.accrualStartDate().ISO(),\n",
    "    'accrualEndDate': cf.accrualEndDate().ISO(),\n",
    "    'rate': cf.rate(),\n",
    "    'amount': cf.amount(),\n",
    "    'payment date': cf.date().ISO(),\n",
    "    'discount factor': discount_curve.discount(cf.date()),\n",
    "    'accrual': cf.accrualPeriod(),\n",
    "    'coupon': discount_curve.discount(cf.date()) * cf.amount(), \n",
    "    } for cf in map(ql.as_coupon, swap.leg(0)))\n",
    "cashflows"
   ]
  },
  {
   "cell_type": "code",
   "execution_count": 29,
   "metadata": {},
   "outputs": [
    {
     "data": {
      "text/plain": [
       "<QuantLib.QuantLib.DiscountCurve; proxy of <Swig Object of type 'ext::shared_ptr< InterpolatedDiscountCurve< LogLinear > > *' at 0x000002405BBC7780> >"
      ]
     },
     "execution_count": 29,
     "metadata": {},
     "output_type": "execute_result"
    }
   ],
   "source": [
    "discount_curve.dis"
   ]
  },
  {
   "cell_type": "code",
   "execution_count": 25,
   "metadata": {},
   "outputs": [
    {
     "data": {
      "text/plain": [
       "1.0138888888888888"
      ]
     },
     "execution_count": 25,
     "metadata": {},
     "output_type": "execute_result"
    }
   ],
   "source": [
    "ql.Actual360().yearFraction(ql.Date(2, 1, 2018), ql.Date(2, 1, 2019))"
   ]
  },
  {
   "cell_type": "code",
   "execution_count": 19,
   "metadata": {},
   "outputs": [
    {
     "data": {
      "text/plain": [
       "365.0"
      ]
     },
     "execution_count": 19,
     "metadata": {},
     "output_type": "execute_result"
    }
   ],
   "source": [
    "ql.daysBetween(ql.Date(2, 1, 2018), ql.Date(2, 1, 2019))"
   ]
  }
 ],
 "metadata": {
  "kernelspec": {
   "display_name": "supersnabb",
   "language": "python",
   "name": "python3"
  },
  "language_info": {
   "codemirror_mode": {
    "name": "ipython",
    "version": 3
   },
   "file_extension": ".py",
   "mimetype": "text/x-python",
   "name": "python",
   "nbconvert_exporter": "python",
   "pygments_lexer": "ipython3",
   "version": "3.12.1"
  }
 },
 "nbformat": 4,
 "nbformat_minor": 2
}
