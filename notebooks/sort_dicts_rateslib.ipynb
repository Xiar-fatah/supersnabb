{
 "cells": [
  {
   "cell_type": "code",
   "execution_count": 11,
   "metadata": {},
   "outputs": [],
   "source": [
    "import rateslib as rl\n",
    "import time\n",
    "from datetime import timedelta\n"
   ]
  },
  {
   "cell_type": "code",
   "execution_count": 182,
   "metadata": {},
   "outputs": [
    {
     "name": "stdout",
     "output_type": "stream",
     "text": [
      "SUCCESS: `func_tol` reached after 2 iterations (levenberg_marquardt) , `f_val`: 5.481547784569765e-14, `time`: 0.0100s\n"
     ]
    }
   ],
   "source": [
    "maturity = [rl.dt(2024,3,4), rl.dt(2024,3,11), rl.dt(2024,3,18)]\n",
    "\n",
    "nodes = {}\n",
    "\n",
    "nodes[rl.dt(2024,2,26)] = 1\n",
    "for date in maturity: \n",
    "    nodes[date] = 1\n",
    "curve = rl.Curve(nodes=nodes, interpolation=\"linear\", id=\"ESTR\")\n",
    "instruments =  [\n",
    "    rl.IRS(rl.dt(2024,2,26), \"1W\", \"A\", curves = \"ESTR\"),\n",
    "    rl.IRS(rl.dt(2024,2,26), \"2W\", \"A\", curves = \"ESTR\"),\n",
    "    rl.IRS(rl.dt(2024,2,26), \"3W\", \"A\", curves = \"ESTR\"),\n",
    "]\n",
    "solver = rl.Solver(curves=[curve], instruments=instruments, s=[3.906, 3.909, 3.907])"
   ]
  },
  {
   "cell_type": "code",
   "execution_count": 183,
   "metadata": {},
   "outputs": [
    {
     "ename": "ValueError",
     "evalue": "Nodes keys are not sorted, to sort your Curve nodes use: dict(sorted(nodes.items()))",
     "output_type": "error",
     "traceback": [
      "\u001b[1;31m---------------------------------------------------------------------------\u001b[0m",
      "\u001b[1;31mValueError\u001b[0m                                Traceback (most recent call last)",
      "Cell \u001b[1;32mIn[183], line 9\u001b[0m\n\u001b[0;32m      6\u001b[0m     nodes[rl\u001b[38;5;241m.\u001b[39mdt(date\u001b[38;5;241m.\u001b[39myear, date\u001b[38;5;241m.\u001b[39mmonth, date\u001b[38;5;241m.\u001b[39mday)] \u001b[38;5;241m=\u001b[39m \u001b[38;5;241m1\u001b[39m\n\u001b[0;32m      8\u001b[0m nodes[rl\u001b[38;5;241m.\u001b[39mdt(\u001b[38;5;241m2024\u001b[39m,\u001b[38;5;241m2\u001b[39m,\u001b[38;5;241m26\u001b[39m)] \u001b[38;5;241m=\u001b[39m \u001b[38;5;241m1\u001b[39m\n\u001b[1;32m----> 9\u001b[0m curve \u001b[38;5;241m=\u001b[39m \u001b[43mrl\u001b[49m\u001b[38;5;241;43m.\u001b[39;49m\u001b[43mCurve\u001b[49m\u001b[43m(\u001b[49m\u001b[43mnodes\u001b[49m\u001b[38;5;241;43m=\u001b[39;49m\u001b[43mnodes\u001b[49m\u001b[43m,\u001b[49m\u001b[43m \u001b[49m\u001b[43minterpolation\u001b[49m\u001b[38;5;241;43m=\u001b[39;49m\u001b[38;5;124;43m\"\u001b[39;49m\u001b[38;5;124;43mlinear\u001b[39;49m\u001b[38;5;124;43m\"\u001b[39;49m\u001b[43m,\u001b[49m\u001b[43m \u001b[49m\u001b[38;5;28;43mid\u001b[39;49m\u001b[38;5;241;43m=\u001b[39;49m\u001b[38;5;124;43m\"\u001b[39;49m\u001b[38;5;124;43mESTR\u001b[39;49m\u001b[38;5;124;43m\"\u001b[39;49m\u001b[43m)\u001b[49m\n\u001b[0;32m     10\u001b[0m instruments \u001b[38;5;241m=\u001b[39m  [\n\u001b[0;32m     11\u001b[0m     rl\u001b[38;5;241m.\u001b[39mIRS(rl\u001b[38;5;241m.\u001b[39mdt(\u001b[38;5;241m2024\u001b[39m,\u001b[38;5;241m2\u001b[39m,\u001b[38;5;241m26\u001b[39m), \u001b[38;5;124m\"\u001b[39m\u001b[38;5;124m1W\u001b[39m\u001b[38;5;124m\"\u001b[39m, \u001b[38;5;124m\"\u001b[39m\u001b[38;5;124mA\u001b[39m\u001b[38;5;124m\"\u001b[39m, curves \u001b[38;5;241m=\u001b[39m \u001b[38;5;124m\"\u001b[39m\u001b[38;5;124mESTR\u001b[39m\u001b[38;5;124m\"\u001b[39m),\n\u001b[0;32m     12\u001b[0m     rl\u001b[38;5;241m.\u001b[39mIRS(rl\u001b[38;5;241m.\u001b[39mdt(\u001b[38;5;241m2024\u001b[39m,\u001b[38;5;241m2\u001b[39m,\u001b[38;5;241m26\u001b[39m), \u001b[38;5;124m\"\u001b[39m\u001b[38;5;124m2W\u001b[39m\u001b[38;5;124m\"\u001b[39m, \u001b[38;5;124m\"\u001b[39m\u001b[38;5;124mA\u001b[39m\u001b[38;5;124m\"\u001b[39m, curves \u001b[38;5;241m=\u001b[39m \u001b[38;5;124m\"\u001b[39m\u001b[38;5;124mESTR\u001b[39m\u001b[38;5;124m\"\u001b[39m),\n\u001b[0;32m     13\u001b[0m     rl\u001b[38;5;241m.\u001b[39mIRS(rl\u001b[38;5;241m.\u001b[39mdt(\u001b[38;5;241m2024\u001b[39m,\u001b[38;5;241m2\u001b[39m,\u001b[38;5;241m26\u001b[39m), \u001b[38;5;124m\"\u001b[39m\u001b[38;5;124m3W\u001b[39m\u001b[38;5;124m\"\u001b[39m, \u001b[38;5;124m\"\u001b[39m\u001b[38;5;124mA\u001b[39m\u001b[38;5;124m\"\u001b[39m, curves \u001b[38;5;241m=\u001b[39m \u001b[38;5;124m\"\u001b[39m\u001b[38;5;124mESTR\u001b[39m\u001b[38;5;124m\"\u001b[39m),\n\u001b[0;32m     14\u001b[0m ]\n\u001b[0;32m     15\u001b[0m solver \u001b[38;5;241m=\u001b[39m rl\u001b[38;5;241m.\u001b[39mSolver(curves\u001b[38;5;241m=\u001b[39m[curve], instruments\u001b[38;5;241m=\u001b[39minstruments, s\u001b[38;5;241m=\u001b[39m[\u001b[38;5;241m3.906\u001b[39m, \u001b[38;5;241m3.909\u001b[39m, \u001b[38;5;241m3.907\u001b[39m])\n",
      "File \u001b[1;32m~\\Documents\\GitHub\\new_fork_rateslib\\rateslib\\rateslib\\curves.py:314\u001b[0m, in \u001b[0;36mCurve.__init__\u001b[1;34m(self, nodes, interpolation, t, c, endpoints, id, convention, modifier, calendar, ad, **kwargs)\u001b[0m\n\u001b[0;32m    312\u001b[0m \u001b[38;5;28;01mfor\u001b[39;00m idx \u001b[38;5;129;01min\u001b[39;00m \u001b[38;5;28mrange\u001b[39m(\u001b[38;5;241m1\u001b[39m, \u001b[38;5;28mself\u001b[39m\u001b[38;5;241m.\u001b[39mn):\n\u001b[0;32m    313\u001b[0m     \u001b[38;5;28;01mif\u001b[39;00m \u001b[38;5;28mself\u001b[39m\u001b[38;5;241m.\u001b[39mnode_dates[idx\u001b[38;5;241m-\u001b[39m\u001b[38;5;241m1\u001b[39m] \u001b[38;5;241m>\u001b[39m \u001b[38;5;28mself\u001b[39m\u001b[38;5;241m.\u001b[39mnode_dates[idx]:\n\u001b[1;32m--> 314\u001b[0m         \u001b[38;5;28;01mraise\u001b[39;00m \u001b[38;5;167;01mValueError\u001b[39;00m(\u001b[38;5;124m\"\u001b[39m\u001b[38;5;124mNodes keys are not sorted, to sort your Curve nodes use: dict(sorted(nodes.items()))\u001b[39m\u001b[38;5;124m\"\u001b[39m)\n\u001b[0;32m    315\u001b[0m \u001b[38;5;28mself\u001b[39m\u001b[38;5;241m.\u001b[39minterpolation \u001b[38;5;241m=\u001b[39m (\n\u001b[0;32m    316\u001b[0m     defaults\u001b[38;5;241m.\u001b[39minterpolation[\u001b[38;5;28mtype\u001b[39m(\u001b[38;5;28mself\u001b[39m)\u001b[38;5;241m.\u001b[39m\u001b[38;5;18m__name__\u001b[39m]\n\u001b[0;32m    317\u001b[0m     \u001b[38;5;28;01mif\u001b[39;00m interpolation \u001b[38;5;129;01mis\u001b[39;00m NoInput\u001b[38;5;241m.\u001b[39mblank\n\u001b[0;32m    318\u001b[0m     \u001b[38;5;28;01melse\u001b[39;00m interpolation\n\u001b[0;32m    319\u001b[0m )\n\u001b[0;32m    320\u001b[0m \u001b[38;5;28;01mif\u001b[39;00m \u001b[38;5;28misinstance\u001b[39m(\u001b[38;5;28mself\u001b[39m\u001b[38;5;241m.\u001b[39minterpolation, \u001b[38;5;28mstr\u001b[39m):\n",
      "\u001b[1;31mValueError\u001b[0m: Nodes keys are not sorted, to sort your Curve nodes use: dict(sorted(nodes.items()))"
     ]
    }
   ],
   "source": [
    "maturity = [rl.dt(2024,3,4), rl.dt(2024,3,11), rl.dt(2024,3,18)]\n",
    "\n",
    "nodes = {}\n",
    "\n",
    "for date in maturity:\n",
    "    nodes[rl.dt(date.year, date.month, date.day)] = 1\n",
    "\n",
    "nodes[rl.dt(2024,2,26)] = 1\n",
    "curve = rl.Curve(nodes=nodes, interpolation=\"linear\", id=\"ESTR\")\n",
    "instruments =  [\n",
    "    rl.IRS(rl.dt(2024,2,26), \"1W\", \"A\", curves = \"ESTR\"),\n",
    "    rl.IRS(rl.dt(2024,2,26), \"2W\", \"A\", curves = \"ESTR\"),\n",
    "    rl.IRS(rl.dt(2024,2,26), \"3W\", \"A\", curves = \"ESTR\"),\n",
    "]\n",
    "solver = rl.Solver(curves=[curve], instruments=instruments, s=[3.906, 3.909, 3.907])"
   ]
  },
  {
   "cell_type": "code",
   "execution_count": 179,
   "metadata": {},
   "outputs": [],
   "source": [
    "#maturity = [rl.dt(2024,3,4), rl.dt(2024,3,11), rl.dt(2024,3,18)]\n",
    "maturity = [rl.dt(1900,3,4) + timedelta(days=i) for i in range(10)]\n",
    "nodes = {}\n",
    "\n",
    "for date in maturity:\n",
    "    nodes[rl.dt(date.year, date.month, date.day)] = 1\n"
   ]
  },
  {
   "cell_type": "code",
   "execution_count": 159,
   "metadata": {},
   "outputs": [
    {
     "name": "stdout",
     "output_type": "stream",
     "text": [
      "0.06100058555603027\n"
     ]
    }
   ],
   "source": [
    "start = time.time()\n",
    "nodes[rl.dt(2024,2,26)] = 1\n",
    "if sorted(nodes.keys()) != list(nodes.keys()):\n",
    "    print(\"Nodes keys are not sorted, to sort your Curve nodes use: dict(sorted(nodes.items()))\")\n",
    "end = time.time()\n",
    "print(end - start)\n"
   ]
  },
  {
   "cell_type": "code",
   "execution_count": 174,
   "metadata": {},
   "outputs": [
    {
     "name": "stdout",
     "output_type": "stream",
     "text": [
      "0.08396339774131775\n"
     ]
    }
   ],
   "source": [
    "arr = []\n",
    "for num in range(1000):\n",
    "    start = time.time()\n",
    "    nodes_keys = nodes.keys()\n",
    "    prev_value = next(iter(nodes_keys))\n",
    "    for node in nodes_keys:\n",
    "        if node < prev_value:\n",
    "            print(\n",
    "                \"Nodes keys are not sorted, to sort your Curve nodes use: dict(sorted(nodes.items()))\"\n",
    "            )\n",
    "            break\n",
    "        prev_value = node\n",
    "    end = time.time()\n",
    "    arr.append(end - start)\n",
    "print(sum(arr) / len(arr))"
   ]
  },
  {
   "cell_type": "code",
   "execution_count": 181,
   "metadata": {},
   "outputs": [
    {
     "ename": "TypeError",
     "evalue": "'dict_keys' object is not subscriptable",
     "output_type": "error",
     "traceback": [
      "\u001b[1;31m---------------------------------------------------------------------------\u001b[0m",
      "\u001b[1;31mTypeError\u001b[0m                                 Traceback (most recent call last)",
      "Cell \u001b[1;32mIn[181], line 1\u001b[0m\n\u001b[1;32m----> 1\u001b[0m \u001b[43mnodes\u001b[49m\u001b[38;5;241;43m.\u001b[39;49m\u001b[43mkeys\u001b[49m\u001b[43m(\u001b[49m\u001b[43m)\u001b[49m\u001b[43m[\u001b[49m\u001b[38;5;241;43m0\u001b[39;49m\u001b[43m]\u001b[49m\n",
      "\u001b[1;31mTypeError\u001b[0m: 'dict_keys' object is not subscriptable"
     ]
    }
   ],
   "source": [
    "nodes.keys()"
   ]
  },
  {
   "cell_type": "code",
   "execution_count": 175,
   "metadata": {},
   "outputs": [
    {
     "name": "stdout",
     "output_type": "stream",
     "text": [
      "0.11040773177146912\n"
     ]
    }
   ],
   "source": [
    "arr = []\n",
    "for num in range(1000):\n",
    "    start = time.time()\n",
    "    nodes_keys = list(nodes.keys())\n",
    "    prev_value = nodes_keys[0]\n",
    "    for node in nodes_keys[1:]:\n",
    "        if node < prev_value:\n",
    "            print(\n",
    "                \"Nodes keys are not sorted, to sort your Curve nodes use: dict(sorted(nodes.items()))\"\n",
    "            )\n",
    "            break\n",
    "        prev_value = node\n",
    "    end = time.time()\n",
    "    arr.append(end - start)\n",
    "print(sum(arr) / len(arr))"
   ]
  },
  {
   "cell_type": "code",
   "execution_count": 166,
   "metadata": {},
   "outputs": [
    {
     "name": "stdout",
     "output_type": "stream",
     "text": [
      "0.12607412338256835\n"
     ]
    }
   ],
   "source": [
    "arr = []\n",
    "for num in range(100):\n",
    "    start = time.time()\n",
    "    nodes_keys = list(nodes.keys())\n",
    "    start_value = next(iter(nodes_keys))\n",
    "    for idx in range(1, len(nodes_keys)):\n",
    "        if nodes_keys[idx-1] >  nodes_keys[idx]:\n",
    "            print(\"Nodes keys are not sorted, to sort your Curve nodes use: dict(sorted(nodes.items()))\")\n",
    "            break\n",
    "    end = time.time()\n",
    "    arr.append(end-start)\n",
    "print(sum(arr)/len(arr))"
   ]
  },
  {
   "cell_type": "code",
   "execution_count": 163,
   "metadata": {},
   "outputs": [
    {
     "name": "stdout",
     "output_type": "stream",
     "text": [
      "0.14518773078918457\n"
     ]
    }
   ],
   "source": [
    "\n",
    "arr = []\n",
    "for num in range(100):\n",
    "    start = time.time()\n",
    "    nodes_keys = list(nodes.keys())\n",
    "    for i in range(1, len(nodes_keys)):\n",
    "        if nodes_keys[i] < nodes_keys[i-1]:\n",
    "            print(\"Nodes keys are not sorted, to sort your Curve nodes use: dict(sorted(nodes.items()))\")\n",
    "            break\n",
    "        start_value = node\n",
    "    end = time.time()\n",
    "    arr.append(end-start)\n",
    "print(sum(arr)/len(arr))"
   ]
  },
  {
   "cell_type": "code",
   "execution_count": 126,
   "metadata": {},
   "outputs": [
    {
     "name": "stdout",
     "output_type": "stream",
     "text": [
      "0.11099791526794434\n"
     ]
    }
   ],
   "source": [
    "\n",
    "nodes_keys= list(nodes.keys())\n",
    "start = time.time()\n",
    "for i in range(1, len(nodes_keys)):\n",
    "    if nodes_keys[i] <= nodes_keys[i-1]:\n",
    "        print(\"Nodes keys are not sorted, to sort your Curve nodes use: dict(sorted(nodes.items()))\")\n",
    "        break\n",
    "end = time.time()\n",
    "print(end - start)\n"
   ]
  },
  {
   "cell_type": "code",
   "execution_count": null,
   "metadata": {},
   "outputs": [],
   "source": [
    "\n",
    "\"\"\"\n",
    "curve = rl.Curve(nodes=nodes, interpolation=\"linear\", id=\"ESTR\")\n",
    "instruments =  [\n",
    "    rl.IRS(rl.dt(2024,2,26), \"1W\", \"A\", curves = \"ESTR\"),\n",
    "    rl.IRS(rl.dt(2024,2,26), \"2W\", \"A\", curves = \"ESTR\"),\n",
    "    rl.IRS(rl.dt(2024,2,26), \"3W\", \"A\", curves = \"ESTR\"),\n",
    "]\n",
    "\"\"\"\n"
   ]
  }
 ],
 "metadata": {
  "kernelspec": {
   "display_name": "rateslib",
   "language": "python",
   "name": "python3"
  },
  "language_info": {
   "codemirror_mode": {
    "name": "ipython",
    "version": 3
   },
   "file_extension": ".py",
   "mimetype": "text/x-python",
   "name": "python",
   "nbconvert_exporter": "python",
   "pygments_lexer": "ipython3",
   "version": "3.11.4"
  }
 },
 "nbformat": 4,
 "nbformat_minor": 2
}
