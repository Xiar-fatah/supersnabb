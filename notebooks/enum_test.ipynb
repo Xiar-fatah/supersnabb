{
 "cells": [
  {
   "cell_type": "code",
   "execution_count": 8,
   "metadata": {},
   "outputs": [],
   "source": [
    "from enum import Enum, auto, StrEnum\n",
    "\n",
    "\n",
    "class Color(Enum):\n",
    "    RED = auto()\n",
    "    GREEN = auto()\n",
    "    BLUE = auto()\n",
    "class Color2(StrEnum):\n",
    "    RED = auto()\n",
    "    GREEN = auto()\n",
    "    BLUE = auto()\n",
    "\n",
    "\n",
    "\n",
    "\n"
   ]
  },
  {
   "cell_type": "code",
   "execution_count": 15,
   "metadata": {},
   "outputs": [
    {
     "data": {
      "text/plain": [
       "True"
      ]
     },
     "execution_count": 15,
     "metadata": {},
     "output_type": "execute_result"
    }
   ],
   "source": [
    "from supersnabb.time.business_day_convention import BusinessDayConvention\n",
    "\n",
    "\n",
    "BusinessDayConvention.FOLLOWING == 'following'"
   ]
  },
  {
   "cell_type": "code",
   "execution_count": 17,
   "metadata": {},
   "outputs": [
    {
     "data": {
      "text/plain": [
       "True"
      ]
     },
     "execution_count": 17,
     "metadata": {},
     "output_type": "execute_result"
    }
   ],
   "source": [
    "from supersnabb.time.calendar.sweden import Sweden\n",
    "from supersnabb.time.date import Date\n",
    "\n",
    "Sweden().is_business_day(Date(2023,2,2))"
   ]
  }
 ],
 "metadata": {
  "kernelspec": {
   "display_name": "supersnabb",
   "language": "python",
   "name": "python3"
  },
  "language_info": {
   "codemirror_mode": {
    "name": "ipython",
    "version": 3
   },
   "file_extension": ".py",
   "mimetype": "text/x-python",
   "name": "python",
   "nbconvert_exporter": "python",
   "pygments_lexer": "ipython3",
   "version": "3.12.1"
  }
 },
 "nbformat": 4,
 "nbformat_minor": 2
}
