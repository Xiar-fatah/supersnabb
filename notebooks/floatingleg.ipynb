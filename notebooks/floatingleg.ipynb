{
 "cells": [
  {
   "cell_type": "code",
   "execution_count": 23,
   "metadata": {},
   "outputs": [],
   "source": [
    "import supersnabb as ss\n",
    "from supersnabb.cashflows.float_rate_coupon import FloatRateLeg\n",
    "from supersnabb.indices.ibor_index import IborIndex\n",
    "\n",
    "schedule = ss.Schedule(\n",
    "    ss.Date(2018, 1, 1),\n",
    "    ss.Date(2023, 1, 2),\n",
    "    ss.Tenor(\"1Y\"),\n",
    "    ss.Sweden(),\n",
    "    ss.BusinessDayConvention.MODIFIEDFOLLOWING,\n",
    "    ss.BusinessDayConvention.MODIFIEDFOLLOWING,\n",
    "    \"forward\",\n",
    ")\n",
    "\n",
    "discount_curve = ss.DiscountCurve(\n",
    "    [\n",
    "        ss.Date(2018, 1, 1),\n",
    "        ss.Date(2019, 1, 1),\n",
    "        ss.Date(2020, 1, 1),\n",
    "        ss.Date(2021, 1, 1),\n",
    "        ss.Date(2022, 1, 1),\n",
    "        ss.Date(2024, 1, 1),\n",
    "    ],\n",
    "    [1, 0.99, 0.98, 0.97, 0.96, 0.95],\n",
    "    ss.ACT360,\n",
    "    ss.Sweden,\n",
    "    ss.InterpolationType.LOGLINEAR,\n",
    ")\n",
    "\n",
    "ibor_index = IborIndex(\n",
    "    ss.Tenor(\"3M\"),\n",
    "    ss.Tenor(\"2D\"),\n",
    "    \"SEK\",\n",
    "    ss.Sweden,\n",
    "    ss.BusinessDayConvention.MODIFIEDFOLLOWING,\n",
    "    ss.ACT360(),\n",
    "    discount_curve,\n",
    ")"
   ]
  },
  {
   "cell_type": "code",
   "execution_count": 24,
   "metadata": {},
   "outputs": [
    {
     "data": {
      "text/plain": [
       "[2018-01-02, 2019-01-02, 2020-01-02, 2021-01-04, 2022-01-03, 2023-01-02]"
      ]
     },
     "execution_count": 24,
     "metadata": {},
     "output_type": "execute_result"
    }
   ],
   "source": [
    "schedule.dates"
   ]
  },
  {
   "cell_type": "code",
   "execution_count": 30,
   "metadata": {},
   "outputs": [],
   "source": [
    "float_leg = FloatRateLeg(\n",
    "    schedule,\n",
    "    10e6,\n",
    "    ibor_index,\n",
    "    ss.ACT360,\n",
    "    ss.BusinessDayConvention.FOLLOWING,\n",
    "    discount_curve\n",
    ")"
   ]
  },
  {
   "cell_type": "code",
   "execution_count": 36,
   "metadata": {},
   "outputs": [],
   "source": [
    "float_leg.cashflows.to_clipboard()"
   ]
  },
  {
   "cell_type": "code",
   "execution_count": 47,
   "metadata": {},
   "outputs": [],
   "source": [
    "\n",
    "import QuantLib as ql\n",
    "import pandas as pd\n",
    "# Begin by setting the valuation date of which the cap and the floor should be priced at\n",
    "ql.Settings.instance().evaluationDate = ql.Date(1, 1, 2018)\n",
    "# Then we initialize the curve we want to use for discounting and forecasting\n",
    "discount_factors = [1, 0.99, 0.98, 0.97, 0.96, 0.95]  # discount factors\n",
    "dates = [\n",
    "    ql.Date(1, 1, 2018),\n",
    "    ql.Date(1, 1, 2019),\n",
    "    ql.Date(1, 1, 2020),\n",
    "    ql.Date(1, 1, 2021),\n",
    "    ql.Date(1, 1, 2022),\n",
    "    ql.Date(1, 1, 2024),\n",
    "]  # maturity dates of the discount factors\n",
    "day_counter = ql.Actual365Fixed()\n",
    "# Note that we will not strip a curve here, but simply use the discount factors and the dates defined above\n",
    "# By default QuantLib DiscountCurve will log linearly interpolate between the points.\n",
    "discount_curve = ql.DiscountCurve(dates, discount_factors, day_counter)\n",
    "# The curve will note be linked in case we want to update the quotes later on\n",
    "discount_handle = ql.YieldTermStructureHandle(discount_curve)\n",
    "\n",
    "start_date = ql.Date(1, 1, 2022)\n",
    "end_date = start_date + ql.Period(12, ql.Months)\n",
    "\n",
    "# We define the schedule of the cap and floor\n",
    "schedule = ql.Schedule(\n",
    "    start_date,                 # Start date of payments\n",
    "    end_date,                   # End date of payments\n",
    "    ql.Period(3, ql.Months),    # frequency of payments\n",
    "    ql.Sweden(),                # Calendar for adjusting for holidays\n",
    "    ql.ModifiedFollowing,       # Business convention for adjusting for holidays\n",
    "    ql.ModifiedFollowing,       # Business convention for adjusting for holidays\n",
    "    ql.DateGeneration.Forward, # Date generation rule for generating the schedule\n",
    "    False,                      # End of month rule\n",
    ")\n",
    "\n",
    "# Create a custom index to track the payments correctly, specifically fixing days.\n",
    "custom_discount_index= ql.IborIndex(\n",
    "    \"MyIndex\",\n",
    "    ql.Period(\"1y\"),\n",
    "    0,\n",
    "    ql.SEKCurrency(),\n",
    "    ql.Sweden(),\n",
    "    ql.Following,\n",
    "    False,\n",
    "    ql.Actual365Fixed(),\n",
    "    discount_handle,\n",
    ")\n",
    "\n",
    "engine = ql.DiscountingSwapEngine(discount_handle)\n",
    "tenor = ql.Period('5y')\n",
    "fixedRate = 0.032\n",
    "forwardStart = ql.Period(\"0D\")\n",
    "\n",
    "swap = ql.MakeVanillaSwap(tenor, custom_discount_index, fixedRate, forwardStart, Nominal=10e6, pricingEngine=engine, fixedLegDayCount=ql.Actual360(), floatingLegDayCount=ql.Actual360())\n",
    "cashflows = pd.DataFrame({\n",
    "    'nominal': cf.nominal(),\n",
    "    'payment date': cf.date().ISO(),\n",
    "    'accrualStartDate': cf.accrualStartDate().ISO(),\n",
    "    'accrualEndDate': cf.accrualEndDate().ISO(),\n",
    "    'accrual': cf.accrualPeriod(),\n",
    "    'discount factor': discount_curve.discount(cf.date()),\n",
    "    'coupon': discount_curve.discount(cf.date()) * cf.amount(), \n",
    "    'amount': cf.amount(),\n",
    "    'foreward rate': cf.indexFixing(),\n",
    "    } for cf in map(ql.as_floating_rate_coupon, swap.leg(1)))\n",
    "cashflows.to_clipboard()"
   ]
  },
  {
   "cell_type": "code",
   "execution_count": 44,
   "metadata": {},
   "outputs": [
    {
     "ename": "AttributeError",
     "evalue": "'IborIndex' object has no attribute 'forecastFixing'",
     "output_type": "error",
     "traceback": [
      "\u001b[1;31m---------------------------------------------------------------------------\u001b[0m",
      "\u001b[1;31mAttributeError\u001b[0m                            Traceback (most recent call last)",
      "Cell \u001b[1;32mIn[44], line 1\u001b[0m\n\u001b[1;32m----> 1\u001b[0m \u001b[43mcustom_discount_index\u001b[49m\u001b[38;5;241;43m.\u001b[39;49m\u001b[43mforecastFixing\u001b[49m(ql\u001b[38;5;241m.\u001b[39mDate(\u001b[38;5;241m1\u001b[39m, \u001b[38;5;241m1\u001b[39m, \u001b[38;5;241m2022\u001b[39m))\n",
      "\u001b[1;31mAttributeError\u001b[0m: 'IborIndex' object has no attribute 'forecastFixing'"
     ]
    }
   ],
   "source": [
    "custom_discount_index.forecastFixing(ql.Date(1, 1, 2022))"
   ]
  }
 ],
 "metadata": {
  "kernelspec": {
   "display_name": "supersnabb",
   "language": "python",
   "name": "python3"
  },
  "language_info": {
   "codemirror_mode": {
    "name": "ipython",
    "version": 3
   },
   "file_extension": ".py",
   "mimetype": "text/x-python",
   "name": "python",
   "nbconvert_exporter": "python",
   "pygments_lexer": "ipython3",
   "version": "3.12.1"
  }
 },
 "nbformat": 4,
 "nbformat_minor": 2
}
