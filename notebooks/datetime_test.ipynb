{
 "cells": [
  {
   "cell_type": "code",
   "execution_count": 75,
   "metadata": {},
   "outputs": [],
   "source": [
    "import supersnabb as ss\n",
    "from datetime import date"
   ]
  },
  {
   "cell_type": "code",
   "execution_count": 76,
   "metadata": {},
   "outputs": [],
   "source": [
    "from dateutil import easter  # Only needed for Easter Monday\n",
    "dt = ss.Date(2023, 2, 2)\n",
    "#easter_monday = dt._calc_day_of_year(easter.easter(dt._year(), 3) + dt._timedelta(1))"
   ]
  },
  {
   "cell_type": "code",
   "execution_count": 89,
   "metadata": {},
   "outputs": [
    {
     "data": {
      "text/plain": [
       "True"
      ]
     },
     "execution_count": 89,
     "metadata": {},
     "output_type": "execute_result"
    }
   ],
   "source": [
    "from supersnabb.time.calendar.sweden import Sweden\n",
    "Sweden().is_business_day(dt)"
   ]
  },
  {
   "cell_type": "code",
   "execution_count": 91,
   "metadata": {},
   "outputs": [
    {
     "data": {
      "text/plain": [
       "True"
      ]
     },
     "execution_count": 91,
     "metadata": {},
     "output_type": "execute_result"
    }
   ],
   "source": [
    "ql.Sweden().isBusinessDay(ql.Date(2, 2, 2023)) == Sweden().is_business_day(dt)"
   ]
  },
  {
   "cell_type": "code",
   "execution_count": 104,
   "metadata": {},
   "outputs": [
    {
     "data": {
      "text/plain": [
       "4"
      ]
     },
     "execution_count": 104,
     "metadata": {},
     "output_type": "execute_result"
    }
   ],
   "source": [
    "datetime.date(2023,6,23).weekday()"
   ]
  },
  {
   "cell_type": "code",
   "execution_count": 101,
   "metadata": {},
   "outputs": [
    {
     "name": "stdout",
     "output_type": "stream",
     "text": [
      "2023-06-23\n"
     ]
    }
   ],
   "source": [
    "from supersnabb.time.date import Date\n",
    "from supersnabb.time.calendar.sweden import Sweden\n",
    "import QuantLib as ql\n",
    "from datetime import date\n",
    "from dateutil.relativedelta import relativedelta\n",
    "num_dates = 10000\n",
    "dt = date(2023, 1, 1)\n",
    "for idx in range(num_dates):\n",
    "    dt = dt + relativedelta(days=1)\n",
    "    ql_dt = ql.Date(dt.day, dt.month, dt.year)\n",
    "    ql_ss = Date(dt.year, dt.month, dt.day)\n",
    "    try:\n",
    "        assert ql.Sweden().isBusinessDay(ql_dt) == Sweden().is_business_day(ql_ss)\n",
    "    except AssertionError:\n",
    "        print(dt)\n",
    "        break"
   ]
  }
 ],
 "metadata": {
  "kernelspec": {
   "display_name": "rateslib",
   "language": "python",
   "name": "python3"
  },
  "language_info": {
   "codemirror_mode": {
    "name": "ipython",
    "version": 3
   },
   "file_extension": ".py",
   "mimetype": "text/x-python",
   "name": "python",
   "nbconvert_exporter": "python",
   "pygments_lexer": "ipython3",
   "version": "3.11.4"
  }
 },
 "nbformat": 4,
 "nbformat_minor": 2
}
