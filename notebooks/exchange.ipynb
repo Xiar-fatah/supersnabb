{
 "cells": [
  {
   "cell_type": "code",
   "execution_count": 25,
   "metadata": {},
   "outputs": [
    {
     "ename": "IndexError",
     "evalue": "list index out of range",
     "output_type": "error",
     "traceback": [
      "\u001b[1;31m---------------------------------------------------------------------------\u001b[0m",
      "\u001b[1;31mIndexError\u001b[0m                                Traceback (most recent call last)",
      "Cell \u001b[1;32mIn[25], line 31\u001b[0m\n\u001b[0;32m     26\u001b[0m day_count_deposit \u001b[38;5;241m=\u001b[39m ql\u001b[38;5;241m.\u001b[39mActual360()\n\u001b[0;32m     28\u001b[0m \u001b[38;5;66;03m# Deposit rate helpers\u001b[39;00m\n\u001b[0;32m     29\u001b[0m deposit_helpers \u001b[38;5;241m=\u001b[39m [\n\u001b[0;32m     30\u001b[0m     ql\u001b[38;5;241m.\u001b[39mDepositRateHelper(\n\u001b[1;32m---> 31\u001b[0m         \u001b[43mspot_rate_handles\u001b[49m\u001b[43m[\u001b[49m\u001b[43mi\u001b[49m\u001b[43m]\u001b[49m,\n\u001b[0;32m     32\u001b[0m         ql\u001b[38;5;241m.\u001b[39mPeriod(tenors, ql\u001b[38;5;241m.\u001b[39mMonths),\n\u001b[0;32m     33\u001b[0m         \u001b[38;5;241m2\u001b[39m,  \u001b[38;5;66;03m# fixing days\u001b[39;00m\n\u001b[0;32m     34\u001b[0m         calendar,\n\u001b[0;32m     35\u001b[0m         ql\u001b[38;5;241m.\u001b[39mModifiedFollowing,\n\u001b[0;32m     36\u001b[0m         \u001b[38;5;28;01mFalse\u001b[39;00m,\n\u001b[0;32m     37\u001b[0m         day_count_deposit,\n\u001b[0;32m     38\u001b[0m     )\n\u001b[0;32m     39\u001b[0m     \u001b[38;5;28;01mfor\u001b[39;00m i, tenors \u001b[38;5;129;01min\u001b[39;00m \u001b[38;5;28menumerate\u001b[39m(deposit_tenors_months)\n\u001b[0;32m     40\u001b[0m ]\n\u001b[0;32m     42\u001b[0m \u001b[38;5;66;03m# Construct the curve\u001b[39;00m\n\u001b[0;32m     43\u001b[0m curve \u001b[38;5;241m=\u001b[39m ql\u001b[38;5;241m.\u001b[39mPiecewiseLogCubicDiscount(\n\u001b[0;32m     44\u001b[0m     settlement_date, deposit_helpers, ql\u001b[38;5;241m.\u001b[39mActualActual(ql\u001b[38;5;241m.\u001b[39mActualActual\u001b[38;5;241m.\u001b[39mISDA)\n\u001b[0;32m     45\u001b[0m )\n",
      "\u001b[1;31mIndexError\u001b[0m: list index out of range"
     ]
    }
   ],
   "source": [
    "import QuantLib as ql\n",
    "\n",
    "# Assuming today's date is the settlement date\n",
    "settlement_date = ql.Date(2, 2, 2024)\n",
    "ql.Settings.instance().evaluationDate = settlement_date\n",
    "\n",
    "\n",
    "# Spot rates provided\n",
    "\n",
    "spot_rates = [\n",
    "    5.49,\n",
    "    5.51,\n",
    "]  # in percent\n",
    "\n",
    "\n",
    "# Corresponding tenors in months and years for deposits and bonds\n",
    "deposit_tenors_months = [1, 3, 6]\n",
    "bond_tenors_years = [1, 2]\n",
    "\n",
    "# Convert annual spot rates to QuantLib QuoteHandle objects and adjust for percentage\n",
    "spot_rate_handles = [\n",
    "    ql.QuoteHandle(ql.SimpleQuote(rate / 100.0)) for rate in spot_rates\n",
    "]\n",
    "\n",
    "# Define day count and calendar for deposits\n",
    "calendar = ql.UnitedStates(ql.UnitedStates.GovernmentBond)\n",
    "day_count_deposit = ql.Actual360()\n",
    "\n",
    "# Deposit rate helpers\n",
    "deposit_helpers = [\n",
    "    ql.DepositRateHelper(\n",
    "        spot_rate_handles[i],\n",
    "        ql.Period(tenors, ql.Months),\n",
    "        2,  # fixing days\n",
    "        calendar,\n",
    "        ql.ModifiedFollowing,\n",
    "        False,\n",
    "        day_count_deposit,\n",
    "    )\n",
    "    for i, tenors in enumerate(deposit_tenors_months)\n",
    "]\n",
    "\n",
    "# Construct the curve\n",
    "curve = ql.PiecewiseLogCubicDiscount(\n",
    "    settlement_date, deposit_helpers, ql.ActualActual(ql.ActualActual.ISDA)\n",
    ")\n",
    "\n",
    "date, rates = zip(*curve.nodes())\n",
    "rates"
   ]
  },
  {
   "cell_type": "code",
   "execution_count": 35,
   "metadata": {},
   "outputs": [],
   "source": [
    "\n",
    "# Day count for bonds\n",
    "day_count_bond = ql.ActualActual(ql.ActualActual.ISDA)\n",
    "\n",
    "prices = [99, 99.5]\n",
    "# Bond rate helpers\n",
    "bond_helpers = []\n",
    "for i, tenors in enumerate(\n",
    "    bond_tenors_years, start=0\n",
    "):  # Starting from the 4th element in spot_rates\n",
    "    maturity_date = settlement_date + ql.Period(tenors, ql.Years)\n",
    "    schedule = ql.Schedule(\n",
    "        settlement_date,\n",
    "        maturity_date,\n",
    "        ql.Period(ql.Annual),\n",
    "        calendar,\n",
    "        ql.Unadjusted,\n",
    "        ql.Unadjusted,\n",
    "        ql.DateGeneration.Backward,\n",
    "        False,\n",
    "    )\n",
    "    bond_helpers.append(\n",
    "        ql.FixedRateBondHelper(\n",
    "            ql.QuoteHandle(ql.SimpleQuote(prices[i])),\n",
    "            3,  # settlement days\n",
    "            100.0,  # face amount\n",
    "            schedule,\n",
    "            [spot_rates[i] / 100.0],  # coupon rate\n",
    "            day_count_bond,\n",
    "            ql.ModifiedFollowing,\n",
    "            100.0,\n",
    "        )  # redemption\n",
    "    )\n"
   ]
  },
  {
   "cell_type": "code",
   "execution_count": 31,
   "metadata": {},
   "outputs": [
    {
     "data": {
      "text/plain": [
       "2"
      ]
     },
     "execution_count": 31,
     "metadata": {},
     "output_type": "execute_result"
    }
   ],
   "source": [
    "len(bond_helpers)"
   ]
  },
  {
   "cell_type": "code",
   "execution_count": 36,
   "metadata": {},
   "outputs": [],
   "source": [
    "\n",
    "# Combine deposit and bond helpers\n",
    "rate_helpers = deposit_helpers + bond_helpers\n",
    "\n",
    "# Construct the curve\n",
    "curve = ql.PiecewiseLogCubicDiscount(\n",
    "    settlement_date, bond_helpers, ql.ActualActual(ql.ActualActual.ISDA)\n",
    ")\n",
    "\n",
    "date, rates = zip(*curve.nodes())"
   ]
  },
  {
   "cell_type": "code",
   "execution_count": 37,
   "metadata": {},
   "outputs": [
    {
     "data": {
      "text/plain": [
       "((Date(2,2,2024), Date(3,2,2025), Date(2,2,2026)),\n",
       " (1.0, 0.9383150856835977, 0.8938731111995456))"
      ]
     },
     "execution_count": 37,
     "metadata": {},
     "output_type": "execute_result"
    }
   ],
   "source": [
    "date, rates"
   ]
  },
  {
   "cell_type": "code",
   "execution_count": null,
   "metadata": {},
   "outputs": [],
   "source": [
    "\n",
    "# Extract zero rates for months 1-360\n",
    "zero_rates = []\n",
    "for month in range(1, 361):\n",
    "    date = settlement_date + ql.Period(month, ql.Months)\n",
    "    yrs = curve.dayCounter().yearFraction(settlement_date, date)\n",
    "    zero_rate = curve.zeroRate(yrs, ql.Compounded, ql.Annual).rate()\n",
    "    zero_rates.append(zero_rate)\n",
    "\n",
    "# Print some of the zero rates\n",
    "print(\"Zero Rates for the first 12 months:\")\n",
    "for month, rate in enumerate(zero_rates[:12], start=1):\n",
    "    print(f\"Month {month}: {rate*100:.2f}%\")"
   ]
  },
  {
   "cell_type": "code",
   "execution_count": 44,
   "metadata": {},
   "outputs": [
    {
     "name": "stdout",
     "output_type": "stream",
     "text": [
      "Zero Rates for the first 12 months:\n",
      "Month 1: 5.69%\n",
      "Month 2: 5.84%\n",
      "Month 3: 5.75%\n",
      "Month 4: 5.43%\n",
      "Month 5: 5.27%\n",
      "Month 6: 5.53%\n",
      "Month 7: 6.27%\n",
      "Month 8: 7.23%\n",
      "Month 9: 8.26%\n",
      "Month 10: 9.17%\n",
      "Month 11: 9.92%\n",
      "Month 12: 10.43%\n"
     ]
    }
   ],
   "source": [
    "import QuantLib as ql\n",
    "\n",
    "# Spot rates provided\n",
    "spot_rates = [\n",
    "    5.49,\n",
    "    5.51,\n",
    "    5.43,\n",
    "    5.42,\n",
    "    5.22,\n",
    "    4.81,\n",
    "    4.36,\n",
    "    4.14,\n",
    "    3.99,\n",
    "    4.02,\n",
    "    4.03,\n",
    "    4.33,\n",
    "    4.22,\n",
    "]  # in percent\n",
    "\n",
    "# Corresponding tenors in months and years for deposits and bonds\n",
    "deposit_tenors_months = [1, 3, 6]\n",
    "bond_tenors_years = [1, 2, 3, 5, 7, 10, 20, 30]\n",
    "\n",
    "# Convert annual spot rates to QuantLib QuoteHandle objects and adjust for percentage\n",
    "spot_rate_handles = [\n",
    "    ql.QuoteHandle(ql.SimpleQuote(rate / 100.0)) for rate in spot_rates\n",
    "]\n",
    "\n",
    "# Assuming today's date is the settlement date\n",
    "settlement_date = ql.Date(2, 2, 2024)\n",
    "ql.Settings.instance().evaluationDate = settlement_date\n",
    "\n",
    "# Define day count and calendar for deposits\n",
    "calendar = ql.UnitedStates(ql.UnitedStates.GovernmentBond)\n",
    "day_count_deposit = ql.Actual360()\n",
    "\n",
    "# Deposit rate helpers\n",
    "deposit_helpers = [\n",
    "    ql.DepositRateHelper(\n",
    "        spot_rate_handles[i],\n",
    "        ql.Period(tenors, ql.Months),\n",
    "        2,  # fixing days\n",
    "        calendar,\n",
    "        ql.ModifiedFollowing,\n",
    "        False,\n",
    "        day_count_deposit,\n",
    "    )\n",
    "    for i, tenors in enumerate(deposit_tenors_months)\n",
    "]\n",
    "\n",
    "# Day count for bonds\n",
    "day_count_bond = ql.ActualActual(ql.ActualActual.ISDA)\n",
    "\n",
    "prices= [\n",
    "    ql.QuoteHandle(ql.SimpleQuote(rate+90)) for rate in spot_rates\n",
    "]\n",
    "# Bond rate helpers\n",
    "bond_helpers = []\n",
    "for i, tenors in enumerate(\n",
    "    bond_tenors_years, start=3\n",
    "):  # Starting from the 4th element in spot_rates\n",
    "    maturity_date = settlement_date + ql.Period(tenors, ql.Years)\n",
    "    schedule = ql.Schedule(\n",
    "        settlement_date,\n",
    "        maturity_date,\n",
    "        ql.Period(ql.Annual),\n",
    "        calendar,\n",
    "        ql.Unadjusted,\n",
    "        ql.Unadjusted,\n",
    "        ql.DateGeneration.Backward,\n",
    "        False,\n",
    "    )\n",
    "    bond_helpers.append(\n",
    "        ql.FixedRateBondHelper(\n",
    "            prices[i],\n",
    "            3,  # settlement days\n",
    "            100.0,  # face amount\n",
    "            schedule,\n",
    "            [spot_rates[i] / 100.0],  # coupon rate\n",
    "            day_count_bond,\n",
    "            ql.ModifiedFollowing,\n",
    "            100.0,\n",
    "        )  # redemption\n",
    "    )\n",
    "\n",
    "# Combine deposit and bond helpers\n",
    "rate_helpers = deposit_helpers + bond_helpers\n",
    "\n",
    "# Construct the curve\n",
    "curve = ql.PiecewiseLogCubicDiscount(\n",
    "    settlement_date, rate_helpers, ql.ActualActual(ql.ActualActual.ISDA)\n",
    ")\n",
    "\n",
    "# Extract zero rates for months 1-360\n",
    "zero_rates = []\n",
    "for month in range(1, 361):\n",
    "    date = settlement_date + ql.Period(month, ql.Months)\n",
    "    yrs = curve.dayCounter().yearFraction(settlement_date, date)\n",
    "    zero_rate = curve.zeroRate(yrs, ql.Compounded, ql.Annual).rate()\n",
    "    zero_rates.append(zero_rate)\n",
    "\n",
    "# Print some of the zero rates\n",
    "print(\"Zero Rates for the first 12 months:\")\n",
    "for month, rate in enumerate(zero_rates[:12], start=1):\n",
    "    print(f\"Month {month}: {rate*100:.2f}%\")"
   ]
  },
  {
   "cell_type": "code",
   "execution_count": null,
   "metadata": {},
   "outputs": [],
   "source": []
  }
 ],
 "metadata": {
  "kernelspec": {
   "display_name": "supersnabb",
   "language": "python",
   "name": "python3"
  },
  "language_info": {
   "codemirror_mode": {
    "name": "ipython",
    "version": 3
   },
   "file_extension": ".py",
   "mimetype": "text/x-python",
   "name": "python",
   "nbconvert_exporter": "python",
   "pygments_lexer": "ipython3",
   "version": "3.12.1"
  }
 },
 "nbformat": 4,
 "nbformat_minor": 2
}
